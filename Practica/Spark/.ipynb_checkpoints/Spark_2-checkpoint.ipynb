{
 "cells": [
  {
   "cell_type": "markdown",
   "metadata": {},
   "source": [
    "<div style=\"padding:30px; color: white; background-color: #0071CD\">\n",
    "    <center>\n",
    "        <img height=\"75\" width=\"310\" src=\"img/logoub.jpeg\"></img>\n",
    "    <p>\n",
    "        <h1>Programación Paralela</h1>\n",
    "        <h2>Spark II</h2>\n",
    "        <h3>Manuel Ernesto Martínez Martín</h3>\n",
    "        <h3>Josep Manuel Lopez Camuñas</h3>\n",
    "    </p>\n",
    "    </center>\n",
    "</div>"
   ]
  },
  {
   "cell_type": "markdown",
   "metadata": {},
   "source": [
    "## Imports"
   ]
  },
  {
   "cell_type": "code",
   "execution_count": 59,
   "metadata": {},
   "outputs": [],
   "source": [
    "import pyspark, time\n",
    "from pyspark.sql.functions import expr, max, min, avg, col, sum, asc, desc, lit, count\n",
    "from pyspark.sql.types import IntegerType, FloatType"
   ]
  },
  {
   "cell_type": "markdown",
   "metadata": {},
   "source": [
    "## Tutorial 2"
   ]
  },
  {
   "cell_type": "markdown",
   "metadata": {},
   "source": [
    "## Lectura de los ficheros y limpieza"
   ]
  },
  {
   "cell_type": "code",
   "execution_count": 2,
   "metadata": {},
   "outputs": [],
   "source": [
    "df2006 = spark.read.format(\"csv\").option(\"header\", \"true\").option(\"nullValue\",\"NA\").option(\"inferSchema\", \"true\").load(\"Spark_Tutorial2/2006.csv\")\n",
    "df2007 = spark.read.format(\"csv\").option(\"header\", \"true\").option(\"nullValue\",\"NA\").option(\"inferSchema\", \"true\").load(\"Spark_Tutorial2/2007.csv\")\n",
    "df2008 = spark.read.format(\"csv\").option(\"header\", \"true\").option(\"nullValue\",\"NA\").option(\"inferSchema\", \"true\").load(\"Spark_Tutorial2/2008.csv\")"
   ]
  },
  {
   "cell_type": "code",
   "execution_count": 9,
   "metadata": {},
   "outputs": [
    {
     "name": "stdout",
     "output_type": "stream",
     "text": [
      "{df2006 : {particiones : 6, elementos : 7141922}}\n",
      "{df2007 : {particiones : 6, elementos : 7453215}}\n",
      "{df2008 : {particiones : 6, elementos : 7009728}}\n"
     ]
    }
   ],
   "source": [
    "print(\"{df2006 : {particiones : %d, elementos : %d}}\"%(df2006.rdd.getNumPartitions(), df2006.count()))\n",
    "print(\"{df2007 : {particiones : %d, elementos : %d}}\"%(df2007.rdd.getNumPartitions(), df2007.count()))\n",
    "print(\"{df2008 : {particiones : %d, elementos : %d}}\"%(df2008.rdd.getNumPartitions(), df2008.count()))"
   ]
  },
  {
   "cell_type": "markdown",
   "metadata": {},
   "source": [
    "## Operaciones"
   ]
  },
  {
   "cell_type": "markdown",
   "metadata": {},
   "source": [
    "### Unificar DataFrames"
   ]
  },
  {
   "cell_type": "code",
   "execution_count": 10,
   "metadata": {},
   "outputs": [],
   "source": [
    "df1 = df2006.union(df2007).union(df2008)"
   ]
  },
  {
   "cell_type": "code",
   "execution_count": 11,
   "metadata": {},
   "outputs": [
    {
     "name": "stdout",
     "output_type": "stream",
     "text": [
      "{df1 : {particiones : 18, elementos : 21604865}}\n"
     ]
    }
   ],
   "source": [
    "print(\"{df1 : {particiones : %d, elementos : %d}}\"%(df1.rdd.getNumPartitions(), df1.count()))"
   ]
  },
  {
   "cell_type": "markdown",
   "metadata": {},
   "source": [
    "### Escoger columnas"
   ]
  },
  {
   "cell_type": "code",
   "execution_count": 12,
   "metadata": {},
   "outputs": [],
   "source": [
    "df2 = df1.select(\"Year\", \"Month\", \"Origin\", \"Dest\", \"ArrDelay\", \"DepDelay\")\n",
    "df3 = df2.na.drop() # eliminamos NA"
   ]
  },
  {
   "cell_type": "markdown",
   "metadata": {},
   "source": [
    "### Añadir columna Retardo total"
   ]
  },
  {
   "cell_type": "code",
   "execution_count": 15,
   "metadata": {},
   "outputs": [],
   "source": [
    "df4 = df3.withColumn(\"SumDelay\", expr(\"ArrDelay + DepDelay\"))"
   ]
  },
  {
   "cell_type": "markdown",
   "metadata": {},
   "source": [
    "### Almacenamiento en caché"
   ]
  },
  {
   "cell_type": "code",
   "execution_count": 16,
   "metadata": {},
   "outputs": [
    {
     "data": {
      "text/plain": [
       "DataFrame[Year: int, Month: int, Origin: string, Dest: string, ArrDelay: int, DepDelay: int, SumDelay: int]"
      ]
     },
     "execution_count": 16,
     "metadata": {},
     "output_type": "execute_result"
    }
   ],
   "source": [
    "df4.cache()"
   ]
  },
  {
   "cell_type": "markdown",
   "metadata": {},
   "source": [
    "### Operaciones de agrupamiento"
   ]
  },
  {
   "cell_type": "code",
   "execution_count": 19,
   "metadata": {},
   "outputs": [
    {
     "name": "stdout",
     "output_type": "stream",
     "text": [
      "+------+-------------------+\n",
      "|Origin|      avg(SumDelay)|\n",
      "+------+-------------------+\n",
      "|   BGM| 14.275419982316533|\n",
      "|   DLG| 29.520242914979757|\n",
      "|   PSE| 1.6995652173913043|\n",
      "|   INL|  14.50936329588015|\n",
      "|   MSY| 16.297211527465407|\n",
      "|   GEG|   8.89446637700977|\n",
      "|   BUR| 12.278206798656793|\n",
      "|   SNA| 10.670062286517982|\n",
      "|   GRB|  20.25246703344686|\n",
      "|   GTF|-1.4841212989493793|\n",
      "|   IDA|   2.70422379478107|\n",
      "|   GRR| 15.865221292490036|\n",
      "|   LWB| 29.194295900178254|\n",
      "|   EUG| 11.089682627446644|\n",
      "|   PSG|  22.49418604651163|\n",
      "|   MYR| 19.363025389374865|\n",
      "|   PVD|  16.99863997911887|\n",
      "|   GSO| 21.790378090751545|\n",
      "|   ISO|  34.06303724928367|\n",
      "|   OAK|  12.94959132626464|\n",
      "+------+-------------------+\n",
      "only showing top 20 rows\n",
      "\n",
      "315\n"
     ]
    }
   ],
   "source": [
    "# agrupa los datos en funcion de una columna como en sql\n",
    "#con agg elegimos la operacion para las columnas agrupadas\n",
    "df5 = df4.groupBy(\"Origin\").agg(avg(\"SumDelay\")) \n",
    "df5.show()\n",
    "print(df5.count())"
   ]
  },
  {
   "cell_type": "markdown",
   "metadata": {},
   "source": [
    "### Renombrar columna"
   ]
  },
  {
   "cell_type": "code",
   "execution_count": 20,
   "metadata": {},
   "outputs": [
    {
     "name": "stdout",
     "output_type": "stream",
     "text": [
      "+------+-------------------+\n",
      "|Origin|      Average Delay|\n",
      "+------+-------------------+\n",
      "|   BGM| 14.275419982316533|\n",
      "|   DLG| 29.520242914979757|\n",
      "|   PSE| 1.6995652173913043|\n",
      "|   INL|  14.50936329588015|\n",
      "|   MSY| 16.297211527465407|\n",
      "|   GEG|   8.89446637700977|\n",
      "|   BUR| 12.278206798656793|\n",
      "|   SNA| 10.670062286517982|\n",
      "|   GRB|  20.25246703344686|\n",
      "|   GTF|-1.4841212989493793|\n",
      "|   IDA|   2.70422379478107|\n",
      "|   GRR| 15.865221292490036|\n",
      "|   LWB| 29.194295900178254|\n",
      "|   EUG| 11.089682627446644|\n",
      "|   PSG|  22.49418604651163|\n",
      "|   MYR| 19.363025389374865|\n",
      "|   PVD|  16.99863997911887|\n",
      "|   GSO| 21.790378090751545|\n",
      "|   ISO|  34.06303724928367|\n",
      "|   OAK|  12.94959132626464|\n",
      "+------+-------------------+\n",
      "only showing top 20 rows\n",
      "\n"
     ]
    }
   ],
   "source": [
    "df6 = df5.withColumnRenamed(\"avg(SumDelay)\", \"Average Delay\")\n",
    "df6.show()"
   ]
  },
  {
   "cell_type": "markdown",
   "metadata": {},
   "source": [
    "### Ejercicio 1"
   ]
  },
  {
   "cell_type": "code",
   "execution_count": 22,
   "metadata": {},
   "outputs": [
    {
     "name": "stdout",
     "output_type": "stream",
     "text": [
      "+------+--------------------+\n",
      "|Origin|       Average Delay|\n",
      "+------+--------------------+\n",
      "|   WYS|  -10.03430749682338|\n",
      "|   HVN|  -9.666666666666666|\n",
      "|   PIH|  -9.502379592613744|\n",
      "|   COD|  -6.474365750528541|\n",
      "|   SLE|  -3.556442417331813|\n",
      "|   TWF| -3.2822893803815636|\n",
      "|   IYK|  -2.933522929257021|\n",
      "|   EKO| -2.8923962676196147|\n",
      "|   BLI| -2.5219378427787933|\n",
      "|   ITO|   -2.13610662358643|\n",
      "|   BTM|  -2.083554376657825|\n",
      "|   SUN|  -1.803742636017096|\n",
      "|   GLH|                -1.5|\n",
      "|   GTF| -1.4841212989493793|\n",
      "|   LIH| -1.4459774444941493|\n",
      "|   CDC| -0.9602780536246276|\n",
      "|   OXR| -0.5326765977895243|\n",
      "|   HTS|-0.23579545454545456|\n",
      "|   LWS|  0.8518339768339769|\n",
      "|   SGU|  1.5537566650508967|\n",
      "+------+--------------------+\n",
      "only showing top 20 rows\n",
      "\n"
     ]
    }
   ],
   "source": [
    "df6.sort(asc(\"Average Delay\")).show()"
   ]
  },
  {
   "cell_type": "markdown",
   "metadata": {},
   "source": [
    "### Ejercicio 2"
   ]
  },
  {
   "cell_type": "code",
   "execution_count": 39,
   "metadata": {},
   "outputs": [
    {
     "name": "stdout",
     "output_type": "stream",
     "text": [
      "+-----+------+------------------+\n",
      "|Month|Origin|     Average Delay|\n",
      "+-----+------+------------------+\n",
      "|    1|   JFK|22.276051642193373|\n",
      "|    2|   JFK| 34.51856495712668|\n",
      "|    3|   JFK|26.013654342218402|\n",
      "|    4|   JFK|24.661354024675823|\n",
      "|    5|   JFK|16.073660871401422|\n",
      "|    6|   JFK| 45.09440136586754|\n",
      "|    7|   JFK|  47.9067632225527|\n",
      "|    8|   JFK| 42.18830401889743|\n",
      "|    9|   JFK|17.447604896341893|\n",
      "|   10|   JFK| 19.78600163643802|\n",
      "|   11|   JFK|18.289446438431806|\n",
      "|   12|   JFK| 38.29553782404712|\n",
      "+-----+------+------------------+\n",
      "\n"
     ]
    }
   ],
   "source": [
    "df5 = df4.where(\"Origin == 'JFK'\").groupBy(\"Month\", \"Origin\").agg(avg(\"SumDelay\"))\n",
    "df6 = df5.sort(asc(\"Month\")).withColumnRenamed(\"avg(SumDelay)\", \"Average Delay\")\n",
    "df6.show()"
   ]
  },
  {
   "cell_type": "markdown",
   "metadata": {},
   "source": [
    "Junio y Julio son los meses con más retardo"
   ]
  },
  {
   "cell_type": "markdown",
   "metadata": {},
   "source": [
    "### Ejercicio 3"
   ]
  },
  {
   "cell_type": "code",
   "execution_count": 41,
   "metadata": {},
   "outputs": [
    {
     "name": "stdout",
     "output_type": "stream",
     "text": [
      "+------+----+-----+\n",
      "|Origin|Dest|Count|\n",
      "+------+----+-----+\n",
      "|   PBI| DCA| 2969|\n",
      "|   PHL| MCO|20183|\n",
      "|   SNA| PHX|16962|\n",
      "|   LAS| LIT| 1110|\n",
      "|   SMF| BUR|10425|\n",
      "|   SPI| ORD| 3986|\n",
      "|   LAX| OXR| 4168|\n",
      "|   MCI| IAH| 7926|\n",
      "|   ROC| CLE| 2760|\n",
      "|   ORD| PDX| 8061|\n",
      "|   ATL| GSP| 6482|\n",
      "|   BDL| SLC|  214|\n",
      "|   MLI| MCO|  635|\n",
      "|   AVP| JFK|   13|\n",
      "|   ADK| AKN|  114|\n",
      "|   EWR| STT|  692|\n",
      "|   CLE| SJU|  116|\n",
      "|   BQN| MCO| 1086|\n",
      "|   FSD| ATL|  604|\n",
      "|   MSP| AVL|  716|\n",
      "+------+----+-----+\n",
      "only showing top 20 rows\n",
      "\n"
     ]
    }
   ],
   "source": [
    "# count(lit(1)) permite hacer una suma del numero de elementos\n",
    "# en vez de hacerlo sobre los valores de una columna del DataFrame\n",
    "df5 = df4.groupBy(\"Origin\", \"Dest\").agg(count(lit(1))).withColumnRenamed(\"count(1)\", \"Count\")\n",
    "df5.show()"
   ]
  },
  {
   "cell_type": "markdown",
   "metadata": {},
   "source": [
    "### Ejercicio 4"
   ]
  },
  {
   "cell_type": "code",
   "execution_count": 42,
   "metadata": {},
   "outputs": [
    {
     "name": "stdout",
     "output_type": "stream",
     "text": [
      "+------+----+-----+\n",
      "|Origin|Dest|Count|\n",
      "+------+----+-----+\n",
      "|   OGG| HNL|41800|\n",
      "|   HNL| OGG|41179|\n",
      "|   LAX| LAS|39062|\n",
      "|   LAS| LAX|38022|\n",
      "|   LAX| SAN|38008|\n",
      "|   SAN| LAX|37888|\n",
      "|   HNL| LIH|34847|\n",
      "|   LIH| HNL|34708|\n",
      "|   SFO| LAX|34615|\n",
      "|   LGA| BOS|34492|\n",
      "|   BOS| LGA|34451|\n",
      "|   LAX| SFO|33952|\n",
      "|   LAS| PHX|33760|\n",
      "|   PHX| LAX|33093|\n",
      "|   PHX| LAS|32952|\n",
      "|   DCA| LGA|32633|\n",
      "|   LGA| DCA|32632|\n",
      "|   LAX| PHX|31848|\n",
      "|   LGA| ORD|31311|\n",
      "|   ORD| LGA|31157|\n",
      "+------+----+-----+\n",
      "only showing top 20 rows\n",
      "\n"
     ]
    }
   ],
   "source": [
    "df6 = df5.sort(desc(\"Count\"))\n",
    "df6.show()"
   ]
  },
  {
   "cell_type": "markdown",
   "metadata": {},
   "source": [
    "### Funciones de usuario"
   ]
  },
  {
   "cell_type": "code",
   "execution_count": 48,
   "metadata": {},
   "outputs": [],
   "source": [
    "def retard(temps):\n",
    "    if (temps > 0):\n",
    "        return 1\n",
    "    else:\n",
    "        return 0"
   ]
  },
  {
   "cell_type": "code",
   "execution_count": 49,
   "metadata": {},
   "outputs": [
    {
     "data": {
      "text/plain": [
       "<function __main__.retard(temps)>"
      ]
     },
     "execution_count": 49,
     "metadata": {},
     "output_type": "execute_result"
    }
   ],
   "source": [
    "# Si el tiempo es mayor que 0 pone retardo a 1, en caso contrario a 0\n",
    "spark.udf.register(\"retard_spark\", retard, IntegerType())"
   ]
  },
  {
   "cell_type": "code",
   "execution_count": 50,
   "metadata": {},
   "outputs": [
    {
     "name": "stdout",
     "output_type": "stream",
     "text": [
      "+----+-----+------+----+--------+--------+--------+------+\n",
      "|Year|Month|Origin|Dest|ArrDelay|DepDelay|SumDelay|Retard|\n",
      "+----+-----+------+----+--------+--------+--------+------+\n",
      "|2006|    1|   ATL| PHX|       6|      -2|       4|     1|\n",
      "|2006|    1|   ATL| PHX|      -5|       0|      -5|     0|\n",
      "|2006|    1|   ATL| PHX|     -23|       0|     -23|     0|\n",
      "|2006|    1|   AUS| PHX|      -8|      -2|     -10|     0|\n",
      "|2006|    1|   AUS| PHX|       0|      -8|      -8|     0|\n",
      "|2006|    1|   BDL| CLT|       2|      -3|      -1|     0|\n",
      "|2006|    1|   BDL| CLT|      20|       5|      25|     1|\n",
      "|2006|    1|   BDL| CLT|       7|      -3|       4|     1|\n",
      "|2006|    1|   BDL| CLT|      -7|      -6|     -13|     0|\n",
      "|2006|    1|   BDL| CLT|      -4|      -3|      -7|     0|\n",
      "|2006|    1|   BDL| DCA|      -5|      -7|     -12|     0|\n",
      "|2006|    1|   BDL| DCA|      -3|       0|      -3|     0|\n",
      "|2006|    1|   BDL| DCA|       5|       0|       5|     1|\n",
      "|2006|    1|   BDL| DCA|      14|       2|      16|     1|\n",
      "|2006|    1|   BDL| PHL|     149|     132|     281|     1|\n",
      "|2006|    1|   BDL| PHL|      -2|      -6|      -8|     0|\n",
      "|2006|    1|   BDL| PHL|      25|       8|      33|     1|\n",
      "|2006|    1|   BDL| PHL|       0|       3|       3|     1|\n",
      "|2006|    1|   BDL| PHX|     -31|       0|     -31|     0|\n",
      "|2006|    1|   BDL| PIT|       1|      -5|      -4|     0|\n",
      "+----+-----+------+----+--------+--------+--------+------+\n",
      "only showing top 20 rows\n",
      "\n"
     ]
    }
   ],
   "source": [
    "df5 = df4.withColumn(\"Retard\", expr(\"retard_spark(SumDelay)\"))\n",
    "df5.show()"
   ]
  },
  {
   "cell_type": "code",
   "execution_count": 52,
   "metadata": {},
   "outputs": [
    {
     "name": "stdout",
     "output_type": "stream",
     "text": [
      "+------+-------------------+\n",
      "|Origin|        avg(Retard)|\n",
      "+------+-------------------+\n",
      "|   GLH|                0.0|\n",
      "|   PIH| 0.1513420902341519|\n",
      "|   WYS|0.15501905972045743|\n",
      "|   COD| 0.2214587737843552|\n",
      "|   TWF|0.22522370420395071|\n",
      "|   LIH| 0.2314646952181386|\n",
      "|   IYK|   0.23746889441877|\n",
      "|   HTS|0.23768939393939395|\n",
      "|   PLN|0.23790322580645162|\n",
      "|   GTF|0.23829990448901622|\n",
      "|   EAU|0.24242424242424243|\n",
      "|   ITO|0.24252827140549274|\n",
      "|   MOT| 0.2495321272613849|\n",
      "|   SLE| 0.2508551881413911|\n",
      "|   BLI| 0.2595978062157221|\n",
      "|   CDC| 0.2611717974180735|\n",
      "|   EKO| 0.2616636887035934|\n",
      "|   GFK|0.26534296028880866|\n",
      "|   ELM|0.26785714285714285|\n",
      "|   BTM|0.26790450928381965|\n",
      "+------+-------------------+\n",
      "only showing top 20 rows\n",
      "\n"
     ]
    }
   ],
   "source": [
    "df6 = df5.groupBy(\"Origin\").agg(avg(\"Retard\")).sort(\"avg(Retard)\")\n",
    "df6.show()"
   ]
  },
  {
   "cell_type": "markdown",
   "metadata": {},
   "source": [
    "### Ejercicio 5"
   ]
  },
  {
   "cell_type": "markdown",
   "metadata": {},
   "source": [
    "#### Opción A"
   ]
  },
  {
   "cell_type": "code",
   "execution_count": 78,
   "metadata": {},
   "outputs": [
    {
     "name": "stdout",
     "output_type": "stream",
     "text": [
      "+-----+------------------+\n",
      "|Month|    Retard Percent|\n",
      "+-----+------------------+\n",
      "|    1| 51.30878910406469|\n",
      "|    2| 56.11147063581945|\n",
      "|    3| 52.01031814273431|\n",
      "|    4|  51.2704903708364|\n",
      "|    5|43.985359329907794|\n",
      "|    6| 59.69623675037348|\n",
      "|    7| 58.93249709039182|\n",
      "|    8| 57.70102467520031|\n",
      "|    9| 44.30411094601288|\n",
      "|   10|   47.436247102141|\n",
      "|   11| 45.22363335173937|\n",
      "|   12| 58.74113900208897|\n",
      "+-----+------------------+\n",
      "\n"
     ]
    }
   ],
   "source": [
    "df6 = df5.where(\"Origin = 'JFK'\").groupBy(\"Month\").agg(avg(\"Retard\")*100).sort(\"Month\")\\\n",
    ".withColumnRenamed(\"(avg(Retard) * 100)\", \"Retard Percent\")\n",
    "df6.show()"
   ]
  },
  {
   "cell_type": "markdown",
   "metadata": {},
   "source": [
    "#### Opción B"
   ]
  },
  {
   "cell_type": "code",
   "execution_count": 79,
   "metadata": {},
   "outputs": [],
   "source": [
    "def percent(retard_avg):\n",
    "    return retard_avg*100"
   ]
  },
  {
   "cell_type": "code",
   "execution_count": 80,
   "metadata": {},
   "outputs": [
    {
     "data": {
      "text/plain": [
       "<function __main__.percent(retard_avg)>"
      ]
     },
     "execution_count": 80,
     "metadata": {},
     "output_type": "execute_result"
    }
   ],
   "source": [
    "spark.udf.register(\"percent_spark\", percent, FloatType())"
   ]
  },
  {
   "cell_type": "code",
   "execution_count": 81,
   "metadata": {},
   "outputs": [
    {
     "name": "stdout",
     "output_type": "stream",
     "text": [
      "+-----+---------+\n",
      "|Month|RetardAVG|\n",
      "+-----+---------+\n",
      "|    1| 51.30879|\n",
      "|    2| 56.11147|\n",
      "|    3| 52.01032|\n",
      "|    4| 51.27049|\n",
      "|    5| 43.98536|\n",
      "|    6|59.696236|\n",
      "|    7|  58.9325|\n",
      "|    8|57.701023|\n",
      "|    9| 44.30411|\n",
      "|   10| 47.43625|\n",
      "|   11|45.223633|\n",
      "|   12| 58.74114|\n",
      "+-----+---------+\n",
      "\n"
     ]
    }
   ],
   "source": [
    "df6 = df5.where(\"Origin = 'JFK'\").groupBy(\"Month\").agg(avg(\"Retard\")).withColumnRenamed(\"avg(Retard)\", \"RetardAVG\")\n",
    "df7 = df6.withColumn(\"RetardAVG\", expr(\"percent_spark(RetardAVG)\")).sort(\"Month\")\n",
    "df7.show()"
   ]
  },
  {
   "cell_type": "markdown",
   "metadata": {},
   "source": [
    "Observamos el quye porcentaje de retardo es más alto en: Junio, Julio, Diciembre y Febrero.\n",
    "\n",
    "Coincide con festividades y vacaciones"
   ]
  }
 ],
 "metadata": {
  "kernelspec": {
   "display_name": "Python 3",
   "language": "python",
   "name": "python3"
  },
  "language_info": {
   "codemirror_mode": {
    "name": "ipython",
    "version": 3
   },
   "file_extension": ".py",
   "mimetype": "text/x-python",
   "name": "python",
   "nbconvert_exporter": "python",
   "pygments_lexer": "ipython3",
   "version": "3.7.7"
  }
 },
 "nbformat": 4,
 "nbformat_minor": 4
}
