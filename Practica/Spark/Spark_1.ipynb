{
 "cells": [
  {
   "cell_type": "markdown",
   "metadata": {},
   "source": [
    "<div style=\"padding:30px; color: white; background-color: #0071CD\">\n",
    "    <center>\n",
    "        <img height=\"75\" width=\"310\" src=\"img/logoub.jpeg\"></img>\n",
    "    <p>\n",
    "        <h1>Programación Paralela</h1>\n",
    "        <h2>Spark I</h2>\n",
    "        <h3>Manuel Ernesto Martínez Martín</h3>\n",
    "        <h3>Josep Manuel Lopez Camuñas</h3>\n",
    "    </p>\n",
    "    </center>\n",
    "</div>"
   ]
  },
  {
   "cell_type": "markdown",
   "metadata": {},
   "source": [
    "## EXTRA"
   ]
  },
  {
   "cell_type": "markdown",
   "metadata": {},
   "source": [
    "### Macos installation\n",
    "\n",
    "#### You also need Java and Python\n",
    "\n",
    "#### Spark installation\n",
    "- brew install apache-spark\n",
    "\n",
    "#### Add to your \"~/.bashrc\" (or zsh), X.Y.Z is your version (you can check by using \"brew info apache-spark\")\n",
    "- export SPARK_HOME=\"/usr/local/Cellar/apache-spark/X.Y.Z/libexec/\"\n",
    "- export PYSPARK_DRIVER_PYTHON=jupyter\n",
    "- export PYSPARK_DRIVER_PYTHON_OPTS=notebook\n",
    "\n",
    "#### You can start jupyter notebook now by using \"pyspark\""
   ]
  },
  {
   "cell_type": "markdown",
   "metadata": {},
   "source": [
    "## Imports"
   ]
  },
  {
   "cell_type": "code",
   "execution_count": 69,
   "metadata": {},
   "outputs": [],
   "source": [
    "import pyspark, time\n",
    "from pyspark.sql.functions import expr, max, min, avg, col, sum, asc, desc"
   ]
  },
  {
   "cell_type": "markdown",
   "metadata": {},
   "source": [
    "## Tutorial 1"
   ]
  },
  {
   "cell_type": "markdown",
   "metadata": {},
   "source": [
    "### Carga de fichero"
   ]
  },
  {
   "cell_type": "code",
   "execution_count": 2,
   "metadata": {},
   "outputs": [],
   "source": [
    "df = spark.read.format(\"csv\").option(\"header\", \"true\").option(\"nullValue\",\"NA\").option(\"inferSchema\", \"true\").load(\"Spark_Tutorial1/2007.csv\")"
   ]
  },
  {
   "cell_type": "markdown",
   "metadata": {},
   "source": [
    "### Muestra el Schema y el número de particiones"
   ]
  },
  {
   "cell_type": "code",
   "execution_count": 3,
   "metadata": {},
   "outputs": [
    {
     "name": "stdout",
     "output_type": "stream",
     "text": [
      "Schema:\n",
      "root\n",
      " |-- Year: integer (nullable = true)\n",
      " |-- Month: integer (nullable = true)\n",
      " |-- DayofMonth: integer (nullable = true)\n",
      " |-- DayOfWeek: integer (nullable = true)\n",
      " |-- DepTime: integer (nullable = true)\n",
      " |-- CRSDepTime: integer (nullable = true)\n",
      " |-- ArrTime: integer (nullable = true)\n",
      " |-- CRSArrTime: integer (nullable = true)\n",
      " |-- UniqueCarrier: string (nullable = true)\n",
      " |-- FlightNum: integer (nullable = true)\n",
      " |-- TailNum: string (nullable = true)\n",
      " |-- ActualElapsedTime: integer (nullable = true)\n",
      " |-- CRSElapsedTime: integer (nullable = true)\n",
      " |-- AirTime: integer (nullable = true)\n",
      " |-- ArrDelay: integer (nullable = true)\n",
      " |-- DepDelay: integer (nullable = true)\n",
      " |-- Origin: string (nullable = true)\n",
      " |-- Dest: string (nullable = true)\n",
      " |-- Distance: integer (nullable = true)\n",
      " |-- TaxiIn: integer (nullable = true)\n",
      " |-- TaxiOut: integer (nullable = true)\n",
      " |-- Cancelled: integer (nullable = true)\n",
      " |-- CancellationCode: string (nullable = true)\n",
      " |-- Diverted: integer (nullable = true)\n",
      " |-- CarrierDelay: integer (nullable = true)\n",
      " |-- WeatherDelay: integer (nullable = true)\n",
      " |-- NASDelay: integer (nullable = true)\n",
      " |-- SecurityDelay: integer (nullable = true)\n",
      " |-- LateAircraftDelay: integer (nullable = true)\n",
      "\n",
      "------------------------------------------------------------\n",
      "Particiones:\n",
      "6\n"
     ]
    }
   ],
   "source": [
    "print(\"Schema:\")\n",
    "df.printSchema()\n",
    "print(\"-\"*60)\n",
    "print(\"Particiones:\")\n",
    "print(df.rdd.getNumPartitions())"
   ]
  },
  {
   "cell_type": "markdown",
   "metadata": {},
   "source": [
    "### Eliminar y seleccionar columnas"
   ]
  },
  {
   "cell_type": "code",
   "execution_count": 4,
   "metadata": {},
   "outputs": [
    {
     "name": "stdout",
     "output_type": "stream",
     "text": [
      "+------+----+--------+--------+\n",
      "|Origin|Dest|ArrDelay|DepDelay|\n",
      "+------+----+--------+--------+\n",
      "|   SMF| ONT|       1|       7|\n",
      "|   SMF| PDX|       8|      13|\n",
      "|   SMF| PDX|      34|      36|\n",
      "|   SMF| PDX|      26|      30|\n",
      "|   SMF| PDX|      -3|       1|\n",
      "|   SMF| PDX|       3|      10|\n",
      "|   SMF| PHX|      47|      56|\n",
      "|   SMF| PHX|      -2|       9|\n",
      "|   SMF| PHX|      44|      47|\n",
      "|   SMF| PHX|      -7|       3|\n",
      "|   SMF| PHX|     -11|       1|\n",
      "|   SMF| PHX|      52|      52|\n",
      "|   SMF| SAN|      45|      53|\n",
      "|   SMF| SAN|     -17|      -5|\n",
      "|   SMF| SAN|      -5|       6|\n",
      "|   SMF| SAN|      33|      44|\n",
      "|   SMF| SAN|      -9|       0|\n",
      "|   SMF| SAN|      -7|       2|\n",
      "|   SMF| SAN|     -11|       1|\n",
      "|   SMF| SAN|      36|      29|\n",
      "+------+----+--------+--------+\n",
      "only showing top 20 rows\n",
      "\n"
     ]
    }
   ],
   "source": [
    "df2 = df.drop(\"FlightNum\",\"TailNum\",\"UniqueCarrier\")\n",
    "df2 = df.select(\"Origin\", \"Dest\", \"ArrDelay\", \"DepDelay\")\n",
    "df2.show()"
   ]
  },
  {
   "cell_type": "markdown",
   "metadata": {},
   "source": [
    "### Eliminamos filas que tengan NA en ArrDelay o DepDelay"
   ]
  },
  {
   "cell_type": "code",
   "execution_count": 5,
   "metadata": {},
   "outputs": [],
   "source": [
    "df3 = df2.na.drop()"
   ]
  },
  {
   "cell_type": "markdown",
   "metadata": {},
   "source": [
    "### Añadir columnas"
   ]
  },
  {
   "cell_type": "code",
   "execution_count": 6,
   "metadata": {},
   "outputs": [
    {
     "name": "stdout",
     "output_type": "stream",
     "text": [
      "+--------+--------+--------+\n",
      "|DepDelay|ArrDelay|SumDelay|\n",
      "+--------+--------+--------+\n",
      "|       7|       1|       8|\n",
      "|      13|       8|      21|\n",
      "|      36|      34|      70|\n",
      "|      30|      26|      56|\n",
      "|       1|      -3|      -2|\n",
      "|      10|       3|      13|\n",
      "|      56|      47|     103|\n",
      "|       9|      -2|       7|\n",
      "|      47|      44|      91|\n",
      "|       3|      -7|      -4|\n",
      "+--------+--------+--------+\n",
      "only showing top 10 rows\n",
      "\n"
     ]
    }
   ],
   "source": [
    "df4 = df3.withColumn(\"SumDelay\", expr(\"ArrDelay + DepDelay\"))\n",
    "df4.select(\"DepDelay\", \"ArrDelay\", \"SumDelay\").show(10)"
   ]
  },
  {
   "cell_type": "markdown",
   "metadata": {},
   "source": [
    "### Max, Min y Average"
   ]
  },
  {
   "cell_type": "code",
   "execution_count": 7,
   "metadata": {},
   "outputs": [
    {
     "name": "stdout",
     "output_type": "stream",
     "text": [
      "+-------------+-------------+-----------------+\n",
      "|max(SumDelay)|min(SumDelay)|    avg(SumDelay)|\n",
      "+-------------+-------------+-----------------+\n",
      "|         5199|         -617|21.55425998256014|\n",
      "+-------------+-------------+-----------------+\n",
      "\n"
     ]
    }
   ],
   "source": [
    "df4.select(max(\"SumDelay\"),min(\"SumDelay\"),avg(\"SumDelay\")).show()"
   ]
  },
  {
   "cell_type": "markdown",
   "metadata": {},
   "source": [
    "### Almacenamiento temporal en memoria caché"
   ]
  },
  {
   "cell_type": "code",
   "execution_count": 8,
   "metadata": {},
   "outputs": [
    {
     "data": {
      "text/plain": [
       "DataFrame[Origin: string, Dest: string, ArrDelay: int, DepDelay: int, SumDelay: int]"
      ]
     },
     "execution_count": 8,
     "metadata": {},
     "output_type": "execute_result"
    }
   ],
   "source": [
    "df4.cache()"
   ]
  },
  {
   "cell_type": "markdown",
   "metadata": {},
   "source": [
    "### Operaciones de filtraje"
   ]
  },
  {
   "cell_type": "code",
   "execution_count": 9,
   "metadata": {},
   "outputs": [
    {
     "name": "stdout",
     "output_type": "stream",
     "text": [
      "df3 count: 7275288\n",
      "df5 count: 3676937\n"
     ]
    }
   ],
   "source": [
    "df5 = df4.where(\"SumDelay < 0\")\n",
    "#df5.show()\n",
    "\n",
    "print(\"df3 count: %d\\n\\\n",
    "df5 count: %d\"%(df3.count(), df5.count()))"
   ]
  },
  {
   "cell_type": "code",
   "execution_count": 10,
   "metadata": {},
   "outputs": [
    {
     "name": "stdout",
     "output_type": "stream",
     "text": [
      "df5 count: 53321\n"
     ]
    }
   ],
   "source": [
    "df5 = df4.where(\"SumDelay < 0\").where(\"Origin == 'JFK'\")\n",
    "#df5.show()\n",
    "\n",
    "print(\"df5 count: %d\"%(df5.count()))"
   ]
  },
  {
   "cell_type": "markdown",
   "metadata": {},
   "source": [
    "#### Mismo filtraje de otra forma (se pueden usar variables de python aqui)"
   ]
  },
  {
   "cell_type": "code",
   "execution_count": 11,
   "metadata": {},
   "outputs": [
    {
     "name": "stdout",
     "output_type": "stream",
     "text": [
      "df5 count: 53321\n"
     ]
    }
   ],
   "source": [
    "i = 0\n",
    "city = \"JFK\"\n",
    "df5 = df4.filter(col(\"SumDelay\") < i).filter(col(\"Origin\") == city)\n",
    "#df5.show()\n",
    "\n",
    "print(\"df5 count: %d\"%(df5.count()))"
   ]
  },
  {
   "cell_type": "markdown",
   "metadata": {},
   "source": [
    "### Ejercicio 1"
   ]
  },
  {
   "cell_type": "code",
   "execution_count": 12,
   "metadata": {},
   "outputs": [
    {
     "name": "stdout",
     "output_type": "stream",
     "text": [
      "+-------------+-------------+-------------+-----------------+\n",
      "|sum(SumDelay)|max(SumDelay)|min(SumDelay)|    avg(SumDelay)|\n",
      "+-------------+-------------+-------------+-----------------+\n",
      "|      4290965|         3111|          -90|35.16175687302823|\n",
      "+-------------+-------------+-------------+-----------------+\n",
      "\n"
     ]
    }
   ],
   "source": [
    "df5 = df4.where(\"Origin == 'JFK'\")\n",
    "df5.select(sum(\"SumDelay\"),max(\"SumDelay\"),min(\"SumDelay\"),avg(\"SumDelay\")).show()"
   ]
  },
  {
   "cell_type": "markdown",
   "metadata": {},
   "source": [
    "### Ordenación"
   ]
  },
  {
   "cell_type": "markdown",
   "metadata": {},
   "source": [
    "#### Ascendente"
   ]
  },
  {
   "cell_type": "code",
   "execution_count": 13,
   "metadata": {},
   "outputs": [
    {
     "name": "stdout",
     "output_type": "stream",
     "text": [
      "+------+----+--------+--------+--------+\n",
      "|Origin|Dest|ArrDelay|DepDelay|SumDelay|\n",
      "+------+----+--------+--------+--------+\n",
      "|   AKN| ANC|    -312|    -305|    -617|\n",
      "|   CHA| ATL|    -175|    -165|    -340|\n",
      "|   ANC| FAI|    -162|    -165|    -327|\n",
      "|   AUS| ATL|    -132|    -124|    -256|\n",
      "|   ATL| AVL|    -116|    -111|    -227|\n",
      "|   ANC| SEA|     -13|    -168|    -181|\n",
      "|   SAN| OKC|    -157|     -19|    -176|\n",
      "|   HNL| KOA|     -89|     -82|    -171|\n",
      "|   SFO| HNL|       8|    -169|    -161|\n",
      "|   ADK| ANC|     -83|     -72|    -155|\n",
      "|   SJC| SBA|     -82|     -67|    -149|\n",
      "|   ITO| HNL|     -74|     -71|    -145|\n",
      "|   ADK| ANC|     -78|     -67|    -145|\n",
      "|   GNV| ATL|     -82|     -62|    -144|\n",
      "|   ANC| SEA|      -5|    -137|    -142|\n",
      "|   PHL| SJU|     -79|     -60|    -139|\n",
      "|   ADK| ANC|     -79|     -58|    -137|\n",
      "|   KOA| HNL|     -72|     -65|    -137|\n",
      "|   YAK| JNU|     -73|     -64|    -137|\n",
      "|   DHN| ATL|     -75|     -60|    -135|\n",
      "+------+----+--------+--------+--------+\n",
      "only showing top 20 rows\n",
      "\n"
     ]
    }
   ],
   "source": [
    "df5 = df4.sort(asc(\"SumDelay\"))\n",
    "df5.show()"
   ]
  },
  {
   "cell_type": "markdown",
   "metadata": {},
   "source": [
    "#### Descendente"
   ]
  },
  {
   "cell_type": "code",
   "execution_count": 14,
   "metadata": {},
   "outputs": [
    {
     "name": "stdout",
     "output_type": "stream",
     "text": [
      "+------+----+--------+--------+--------+\n",
      "|Origin|Dest|ArrDelay|DepDelay|SumDelay|\n",
      "+------+----+--------+--------+--------+\n",
      "|   PBI| DTW|    2598|    2601|    5199|\n",
      "|   ALO| MSP|    1942|    1956|    3898|\n",
      "|   HNL| MSP|    1848|    1831|    3679|\n",
      "|   FWA| DTW|    1715|    1736|    3451|\n",
      "|   FAI| MSP|    1665|    1689|    3354|\n",
      "+------+----+--------+--------+--------+\n",
      "\n"
     ]
    }
   ],
   "source": [
    "df5 = df4.sort(desc(\"SumDelay\")).limit(5)\n",
    "df5.show()"
   ]
  },
  {
   "cell_type": "markdown",
   "metadata": {},
   "source": [
    "### Obtener elementos unicos"
   ]
  },
  {
   "cell_type": "code",
   "execution_count": 15,
   "metadata": {},
   "outputs": [
    {
     "name": "stdout",
     "output_type": "stream",
     "text": [
      "304\n"
     ]
    }
   ],
   "source": [
    "df5 = df4.select(\"Origin\").distinct()\n",
    "print(df5.count())"
   ]
  },
  {
   "cell_type": "markdown",
   "metadata": {},
   "source": [
    "### Ejercicio 2"
   ]
  },
  {
   "cell_type": "code",
   "execution_count": 16,
   "metadata": {},
   "outputs": [
    {
     "name": "stdout",
     "output_type": "stream",
     "text": [
      "Destinos diferentes: 304\n",
      "Combinaciones de origen/destino unicas: 5032\n"
     ]
    }
   ],
   "source": [
    "print(\"Destinos diferentes: %d\"%df4.select(\"Dest\").distinct().count())\n",
    "print(\"Combinaciones de origen/destino unicas: %d\"%df4.select(\"Origin\",\"Dest\").distinct().count())"
   ]
  },
  {
   "cell_type": "markdown",
   "metadata": {},
   "source": [
    "### Acceso a los datos desde python"
   ]
  },
  {
   "cell_type": "code",
   "execution_count": 17,
   "metadata": {},
   "outputs": [
    {
     "name": "stdout",
     "output_type": "stream",
     "text": [
      "[Row(Origin='SMF', Dest='ONT', ArrDelay=1, DepDelay=7, SumDelay=8), Row(Origin='SMF', Dest='PDX', ArrDelay=8, DepDelay=13, SumDelay=21), Row(Origin='SMF', Dest='PDX', ArrDelay=34, DepDelay=36, SumDelay=70), Row(Origin='SMF', Dest='PDX', ArrDelay=26, DepDelay=30, SumDelay=56), Row(Origin='SMF', Dest='PDX', ArrDelay=-3, DepDelay=1, SumDelay=-2)]\n",
      "------------------------------------------------------------\n",
      "Row(Origin='SMF', Dest='ONT', ArrDelay=1, DepDelay=7, SumDelay=8)\n",
      "------------------------------------------------------------\n",
      "7\n"
     ]
    }
   ],
   "source": [
    "datos = df4.limit(5).collect()\n",
    "print(datos)\n",
    "print(\"-\"*60)\n",
    "print(datos[0])\n",
    "print(\"-\"*60)\n",
    "print(datos[0][3])"
   ]
  },
  {
   "cell_type": "markdown",
   "metadata": {},
   "source": [
    "### Escritura de ficheros"
   ]
  },
  {
   "cell_type": "code",
   "execution_count": 19,
   "metadata": {},
   "outputs": [
    {
     "name": "stdout",
     "output_type": "stream",
     "text": [
      "Particiones 6 == numero de ficheros\n",
      "Particiones 1 == numero de ficheros\n"
     ]
    }
   ],
   "source": [
    "print(\"Particiones %d = numero de ficheros\"%df4.rdd.getNumPartitions())\n",
    "df4_one = df4.coalesce(1) # para no crear n ficheros\n",
    "print(\"Particiones %d = numero de ficheros\"%df4_one.rdd.getNumPartitions())\n",
    "\n",
    "df4_one.write.format(\"csv\").option(\"header\", \"true\").save(\"Spark_Tutorial1/df4_one.csv\")"
   ]
  },
  {
   "cell_type": "markdown",
   "metadata": {},
   "source": [
    "### Ejercicio 3"
   ]
  },
  {
   "cell_type": "markdown",
   "metadata": {},
   "source": [
    "Cuantas más particiones se tengan más rápido ha de ir por que cada partición la usa un core en el caso de que se ejecute todo en un solo ordenador, pero en nuestro caso al usar un dual core el margen de mejora es insignificante"
   ]
  },
  {
   "cell_type": "code",
   "execution_count": 74,
   "metadata": {},
   "outputs": [
    {
     "name": "stdout",
     "output_type": "stream",
     "text": [
      "CPU times: user 2.27 ms, sys: 2.08 ms, total: 4.35 ms\n",
      "Wall time: 11.6 ms\n"
     ]
    }
   ],
   "source": [
    "%%time\n",
    "df4_sorted = df4.sort(asc(\"SumDelay\"))"
   ]
  },
  {
   "cell_type": "code",
   "execution_count": 75,
   "metadata": {},
   "outputs": [
    {
     "name": "stdout",
     "output_type": "stream",
     "text": [
      "CPU times: user 2.21 ms, sys: 1.93 ms, total: 4.14 ms\n",
      "Wall time: 10.1 ms\n"
     ]
    }
   ],
   "source": [
    "%%time\n",
    "df4_one_sorted = df4_one.sort(asc(\"SumDelay\"))"
   ]
  }
 ],
 "metadata": {
  "kernelspec": {
   "display_name": "Python 3",
   "language": "python",
   "name": "python3"
  },
  "language_info": {
   "codemirror_mode": {
    "name": "ipython",
    "version": 3
   },
   "file_extension": ".py",
   "mimetype": "text/x-python",
   "name": "python",
   "nbconvert_exporter": "python",
   "pygments_lexer": "ipython3",
   "version": "3.7.7"
  }
 },
 "nbformat": 4,
 "nbformat_minor": 4
}
